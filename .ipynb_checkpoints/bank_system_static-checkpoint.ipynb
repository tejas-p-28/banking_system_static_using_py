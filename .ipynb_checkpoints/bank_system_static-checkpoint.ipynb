{
 "cells": [
  {
   "cell_type": "code",
   "execution_count": 9,
   "id": "53eb4842-7b5d-4abb-8bf5-41e10361d63f",
   "metadata": {},
   "outputs": [],
   "source": [
    "#config \n",
    "width = 50\n",
    "bank_name = 'Ghotala Bank'\n",
    "branch_name = 'Maksad Nagar'\n",
    "\n",
    "max_retry = 3"
   ]
  },
  {
   "cell_type": "code",
   "execution_count": 10,
   "id": "e680b595-1c8a-4fda-8d2b-7124a095857e",
   "metadata": {},
   "outputs": [],
   "source": [
    "#global variable\n",
    "bank_db = {}\n",
    "acc_no = 1000"
   ]
  },
  {
   "cell_type": "code",
   "execution_count": 11,
   "id": "faa0ecc5-819f-4603-81e9-e8b17671e500",
   "metadata": {},
   "outputs": [],
   "source": [
    "#messages error\n",
    "phn_error = 'Abe Phn no sahi daal na'\n",
    "first_msg = 'Operation you can perform'\n",
    "max_retry_msg"
   ]
  },
  {
   "cell_type": "code",
   "execution_count": 15,
   "id": "8282be32-b6e6-4b30-90fd-8abd9a34cfff",
   "metadata": {},
   "outputs": [],
   "source": [
    "#business logic \n",
    "def header(mesg = None):\n",
    "    head = '-' * width\n",
    "    print(f'{head} \\n {bank_name.center(width)} \\n {head}')\n",
    "    if mesg:\n",
    "        print(mesg.center(width))\n",
    "    print(head)\n",
    "def user_input(ch,max_exp_value):\n",
    "    for i in range(max_retry):\n",
    "        ch = int(input('enter your choice'))\n",
    "        if ch in range(1,max_exp_value+1):\n",
    "            return ch\n",
    "        else:\n",
    "            print('error')\n",
    "    print('Max retries exceeded')\n",
    "    return False\n",
    "def first_screen():\n",
    "    print(first_msg)\n",
    "    print('\\n1) Create Account \\n2) Login \\n3) Exit')\n",
    "    return user_input('enter your choice : ',3)\n",
    "\n",
    "\n",
    "def create_account():\n",
    "    global bank_db\n",
    "    header('Account Creation in progress')\n",
    "    for i in range(max_retry):\n",
    "        naam = input('enter your name')\n",
    "        phn_no = input('enter your phn no')\n",
    "        if len(phn_no) == 10:\n",
    "            \n",
    "            print(phn_no)\n",
    "        else:\n",
    "            print(phn_error)\n",
    "    print(\n",
    "def acc_no():\n",
    "    global acc_no\n",
    "    acc_no +=1\n",
    "    return acc_no"
   ]
  },
  {
   "cell_type": "code",
   "execution_count": 16,
   "id": "c04c7de8-d1d5-4a65-b0ad-4ca54a1a9600",
   "metadata": {},
   "outputs": [],
   "source": [
    "#main / server\n",
    "def main():\n",
    "    \n",
    "    \n",
    "    header()\n",
    "    ch = first_screen()\n",
    "    if ch == 1:\n",
    "        create_account()\n",
    "    elif ch == 2:\n",
    "        pass\n",
    "    elif ch == 3:\n",
    "        pass\n",
    "    else:\n",
    "        pass"
   ]
  },
  {
   "cell_type": "code",
   "execution_count": null,
   "id": "51e6c67b-2f19-4b53-9dc3-e630afceb7d8",
   "metadata": {},
   "outputs": [
    {
     "name": "stdout",
     "output_type": "stream",
     "text": [
      "-------------------------------------------------- \n",
      "                    Ghotala Bank                    \n",
      " --------------------------------------------------\n",
      "--------------------------------------------------\n",
      "Operation you can perform\n",
      "\n",
      "1) Create Account \n",
      "2) Login \n",
      "3) Exit\n"
     ]
    },
    {
     "name": "stdin",
     "output_type": "stream",
     "text": [
      "enter your choice 1\n"
     ]
    },
    {
     "name": "stdout",
     "output_type": "stream",
     "text": [
      "-------------------------------------------------- \n",
      "                    Ghotala Bank                    \n",
      " --------------------------------------------------\n",
      "           Account Creation in progress           \n",
      "--------------------------------------------------\n"
     ]
    },
    {
     "name": "stdin",
     "output_type": "stream",
     "text": [
      "enter your name tejas\n",
      "enter your phn no 56\n"
     ]
    },
    {
     "name": "stdout",
     "output_type": "stream",
     "text": [
      "Abe Phn no sahi daal na\n"
     ]
    },
    {
     "name": "stdin",
     "output_type": "stream",
     "text": [
      "enter your name tejas\n",
      "enter your phn no 7854645678\n"
     ]
    },
    {
     "name": "stdout",
     "output_type": "stream",
     "text": [
      "7854645678\n"
     ]
    }
   ],
   "source": [
    "# execution\n",
    "main()"
   ]
  },
  {
   "cell_type": "code",
   "execution_count": null,
   "id": "8b010dd4-85e5-4d0b-8ba6-4cb01f3aea87",
   "metadata": {},
   "outputs": [],
   "source": []
  }
 ],
 "metadata": {
  "kernelspec": {
   "display_name": "Python 3 (ipykernel)",
   "language": "python",
   "name": "python3"
  },
  "language_info": {
   "codemirror_mode": {
    "name": "ipython",
    "version": 3
   },
   "file_extension": ".py",
   "mimetype": "text/x-python",
   "name": "python",
   "nbconvert_exporter": "python",
   "pygments_lexer": "ipython3",
   "version": "3.12.2"
  }
 },
 "nbformat": 4,
 "nbformat_minor": 5
}
