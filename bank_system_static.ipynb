{
 "cells": [
  {
   "cell_type": "code",
   "execution_count": 4,
   "id": "f99a17e3-c384-42a5-a967-724f1a0acf69",
   "metadata": {},
   "outputs": [
    {
     "name": "stdout",
     "output_type": "stream",
     "text": [
      "--------------------------------------------------\n",
      "                   Ghotala Bank                   \n",
      "--------------------------------------------------\n"
     ]
    },
    {
     "name": "stdin",
     "output_type": "stream",
     "text": [
      "if acc exist type \"Y\" if not \"N\" :  k\n"
     ]
    },
    {
     "name": "stdout",
     "output_type": "stream",
     "text": [
      "ERROR 404 : Please Provide specific details\n"
     ]
    },
    {
     "name": "stdin",
     "output_type": "stream",
     "text": [
      "if acc exist type \"Y\" if not \"N\" :  k\n"
     ]
    },
    {
     "name": "stdout",
     "output_type": "stream",
     "text": [
      "ERROR 404 : Please Provide specific details\n"
     ]
    },
    {
     "name": "stdin",
     "output_type": "stream",
     "text": [
      "if acc exist type \"Y\" if not \"N\" :  k\n"
     ]
    },
    {
     "name": "stdout",
     "output_type": "stream",
     "text": [
      "ERROR 404 : Please Provide specific details\n"
     ]
    }
   ],
   "source": [
    "width = 50 \n",
    "bank_name = 'Ghotala Bank'\n",
    "print('-'*width) \n",
    "print(bank_name.center(width))\n",
    "print('-'*width) \n",
    "\n",
    "count = 3\n",
    "for i in range(count):\n",
    "    user_type = input(r'if acc exist type \"Y\" if not \"N\" : ')\n",
    "    if user_type == 'Y' or user_type == 'y':\n",
    "        pass\n",
    "    elif user_type == 'N' or user_type == 'n':\n",
    "        def create_acc(*var):\n",
    "            count = 3\n",
    "            for i in range(count):\n",
    "                name = input('enter your full name')\n",
    "                add = input('enter your address')\n",
    "                phn_no = input('enter your phn no.')\n",
    "                if len(phn_no) == 10 and name!='':\n",
    "                    print(f'\\nhello {name} you have successfully created your account in {bank_name}')\n",
    "                else:\n",
    "                    print('ERROR 404 : Invalid credentials Please Retry !!!')\n",
    "            # acc_no = None\n",
    "            # for i in range(1,10):\n",
    "            #     acc_no.append(randint(1,9))\n",
    "            # print(acc_no)\n",
    "        create_acc()\n",
    "    else:\n",
    "        print('ERROR 404 : Please Provide specific details')\n",
    "\n",
    "\n",
    "\n",
    "# valid = False\n",
    "# def create_acc(*var):\n",
    "#     name = input('enter your name')\n",
    "#     add = input('enter your address')\n",
    "#     phn_no = int(input('enter your no.'))\n",
    "#     valid = True\n",
    "#     print('account created successfully')\n",
    "#     def assign_no():\n",
    "#         if valid == True:\n",
    "#             acc_no = range(0,9)\n",
    "# create_acc()"
   ]
  },
  {
   "cell_type": "code",
   "execution_count": null,
   "id": "53eb4842-7b5d-4abb-8bf5-41e10361d63f",
   "metadata": {},
   "outputs": [],
   "source": []
  }
 ],
 "metadata": {
  "kernelspec": {
   "display_name": "Python 3 (ipykernel)",
   "language": "python",
   "name": "python3"
  },
  "language_info": {
   "codemirror_mode": {
    "name": "ipython",
    "version": 3
   },
   "file_extension": ".py",
   "mimetype": "text/x-python",
   "name": "python",
   "nbconvert_exporter": "python",
   "pygments_lexer": "ipython3",
   "version": "3.12.2"
  }
 },
 "nbformat": 4,
 "nbformat_minor": 5
}
