{
 "cells": [
  {
   "cell_type": "code",
   "execution_count": 11,
   "id": "53eb4842-7b5d-4abb-8bf5-41e10361d63f",
   "metadata": {},
   "outputs": [],
   "source": [
    "#config \n",
    "width = 50\n",
    "bank_name = 'Ghotala Bank'\n",
    "branch_name = 'Maksad Nagar'\n",
    "max_retry = 3"
   ]
  },
  {
   "cell_type": "code",
   "execution_count": 12,
   "id": "e680b595-1c8a-4fda-8d2b-7124a095857e",
   "metadata": {},
   "outputs": [],
   "source": [
    "#global variable\n",
    "bank_db = {}\n",
    "acc_no = 1000"
   ]
  },
  {
   "cell_type": "code",
   "execution_count": 13,
   "id": "faa0ecc5-819f-4603-81e9-e8b17671e500",
   "metadata": {},
   "outputs": [],
   "source": [
    "#messages error\n",
    "retry_error = 'maximum retries exceeded'\n",
    "first_msg = 'Operation you can perform'\n",
    "invalid_credentials = 'Invalid Credentials'\n",
    "insuff_msg = 'ERROR : Abey aukaat dekh kr nikal na'"
   ]
  },
  {
   "cell_type": "code",
   "execution_count": 31,
   "id": "8282be32-b6e6-4b30-90fd-8abd9a34cfff",
   "metadata": {},
   "outputs": [],
   "source": [
    "#business logic \n",
    "def header(mesg = None):\n",
    "    head = '-' * width\n",
    "    print(f'{head} \\n {bank_name.center(width)}')\n",
    "    if mesg:\n",
    "        print(mesg.center(width))\n",
    "    print(head)\n",
    "def user_input(ch,max_exp_value):\n",
    "    for i in range(max_retry):\n",
    "        ch = int(input('enter your choice'))\n",
    "        if ch in range(1,max_exp_value+1):\n",
    "            return ch\n",
    "        else:\n",
    "            print('Abey andha hai kya? Sahi option select kr')\n",
    "    print(retry_error)\n",
    "\n",
    "def first_screen():\n",
    "    print(first_msg)\n",
    "    print('\\n1) Create Account \\n2) Login \\n3) Exit')\n",
    "    return user_input('enter your choice : ',3)\n",
    "\n",
    "\n",
    "def create_account(acc_no):\n",
    "    global bank_db\n",
    "    header('Account Creation in progress')\n",
    "    for i in range(max_retry):\n",
    "        naam = input('enter your name : ')\n",
    "        phn_no = input('enter your phn no : ')\n",
    "        city = input('enter your city : ')\n",
    "        acc_no = get_acc_no()\n",
    "        pswd = input('enter your password : ')\n",
    "        bal = 0\n",
    "        print(f'{acc_no} created successfully')\n",
    "        bank_db[acc_no] = {'name':naam,'phone number':phn_no,'city':city,'password':pswd,'balance':bal}\n",
    "        first_screen()\n",
    "        login_user(acc_no,bank_db)\n",
    "        break\n",
    "    return bank_db\n",
    "        # if len(phn_no) == 10:\n",
    "            \n",
    "        #     print(phn_no)\n",
    "        # else:\n",
    "        #     print(phn_error)\n",
    "def login_user(acc_no):\n",
    "    for i in range(max_retry):\n",
    "        header('Abey acc no aur pswd daal na : ')\n",
    "        user_name = int(input('enter your account number : '))\n",
    "        pswd = input('enter your password : ')\n",
    "        if user_name in bank_db and pswd in bank_db[acc_no]['password']:\n",
    "            \n",
    "            logged_in_user(acc_no)\n",
    "            break\n",
    "        else:\n",
    "            print(invalid_credentials)\n",
    "            break\n",
    "\n",
    "def deposit(acc_no):\n",
    "    amt = int(input('enter amount you want to deposit : '))\n",
    "    bank_db[acc_no]['balance'] += amt \n",
    "    print(f'{amt} successfully deposited to {acc_no}')\n",
    "    print(bal_check(ano))\n",
    "    logged_in_user(acc_no)\n",
    "    # return bal\n",
    "    \n",
    "def withdraw(acc_no):\n",
    "    amt = int(input('enter amount you want to deposit : '))\n",
    "    if bank_db[acc_no]['balance'] >= amt:\n",
    "        bank_db[acc_no]['balance'] -= amt\n",
    "        print(f'{amt} successfully withdrawl to {acc_no}')\n",
    "        print(bal_check(ano))\n",
    "    else:\n",
    "        print(insuff_msg)\n",
    "def bal_check(acc_no):\n",
    "    header(f'Heyy {bank_db[acc_no]['name']} Khata khul gya ab aage bol')\n",
    "    print(f\"'-'*width \\n{bank_db[acc_no]['name']} teri aukaat hai {bank_db[acc_no]['balance']} \\n '-' * width\")\n",
    "def logged_in_user(acc_no):\n",
    "    header(f'Heyy {bank_db[acc_no]['name']} Khata khul gya ab aage bol')\n",
    "    option = ['Deposit','Withdraw','Balance check','Log Out']\n",
    "    for i,j in enumerate(option,1):\n",
    "        print(f'{i}) {j}')\n",
    "    return user_input('enter your choice:',4)\n",
    "    if ch == 1:\n",
    "        deposit(acc_no)\n",
    "\n",
    "    elif ch == 2:\n",
    "        withdraw(acc_no)\n",
    "\n",
    "    elif ch == 3:\n",
    "        bal_check(acc_no)\n",
    "    elif ch == 4:\n",
    "        return\n",
    "    else:\n",
    "        print('Abey sahi option daal')\n",
    "    \n",
    "\n",
    "    \n",
    "\n",
    "def get_acc_no():\n",
    "    global acc_no\n",
    "    acc_no +=1\n",
    "    return acc_no"
   ]
  },
  {
   "cell_type": "code",
   "execution_count": 32,
   "id": "c04c7de8-d1d5-4a65-b0ad-4ca54a1a9600",
   "metadata": {},
   "outputs": [],
   "source": [
    "#main / server\n",
    "def main():\n",
    "    \n",
    "    \n",
    "    header()\n",
    "    ch = first_screen()\n",
    "    if ch == 1:\n",
    "        create_account(acc_no)\n",
    "    elif ch == 2:        \n",
    "        login_user(acc_no)\n",
    "    elif ch == 3:\n",
    "        pass\n",
    "    else:\n",
    "        pass"
   ]
  },
  {
   "cell_type": "code",
   "execution_count": 33,
   "id": "77f49d3a-22bb-4a4e-9441-56dbda18913f",
   "metadata": {},
   "outputs": [
    {
     "name": "stdout",
     "output_type": "stream",
     "text": [
      "-------------------------------------------------- \n",
      "                    Ghotala Bank                   \n",
      "--------------------------------------------------\n",
      "Operation you can perform\n",
      "\n",
      "1) Create Account \n",
      "2) Login \n",
      "3) Exit\n"
     ]
    },
    {
     "name": "stdin",
     "output_type": "stream",
     "text": [
      "enter your choice 2\n"
     ]
    },
    {
     "name": "stdout",
     "output_type": "stream",
     "text": [
      "-------------------------------------------------- \n",
      "                    Ghotala Bank                   \n",
      "         Abey acc no aur pswd daal na :           \n",
      "--------------------------------------------------\n"
     ]
    },
    {
     "name": "stdin",
     "output_type": "stream",
     "text": [
      "enter your account number :  1001\n",
      "enter your password :  123\n"
     ]
    },
    {
     "name": "stdout",
     "output_type": "stream",
     "text": [
      "-------------------------------------------------- \n",
      "                    Ghotala Bank                   \n",
      "      Heyy Tejas Khata khul gya ab aage bol       \n",
      "--------------------------------------------------\n",
      "1) Deposit\n",
      "2) Withdraw\n",
      "3) Balance check\n",
      "4) Log Out\n"
     ]
    },
    {
     "name": "stdin",
     "output_type": "stream",
     "text": [
      "enter your choice 1\n"
     ]
    }
   ],
   "source": [
    "# execution\n",
    "main()"
   ]
  },
  {
   "cell_type": "code",
   "execution_count": 34,
   "id": "0cde87da-11ad-40e3-bf18-ab52d4b8c3e6",
   "metadata": {},
   "outputs": [
    {
     "name": "stdout",
     "output_type": "stream",
     "text": [
      "0\n"
     ]
    }
   ],
   "source": [
    "print(bank_db[acc_no]['balance'])"
   ]
  },
  {
   "cell_type": "code",
   "execution_count": 35,
   "id": "8b010dd4-85e5-4d0b-8ba6-4cb01f3aea87",
   "metadata": {},
   "outputs": [
    {
     "name": "stdout",
     "output_type": "stream",
     "text": [
      "{1001: {'name': 'Tejas', 'phone number': '9876556789', 'city': 'Pune', 'password': '123', 'balance': 0}}\n"
     ]
    }
   ],
   "source": [
    "print(bank_db)"
   ]
  },
  {
   "cell_type": "code",
   "execution_count": 127,
   "id": "a0a3a982-c471-4a1b-868d-1ae2f60f9916",
   "metadata": {},
   "outputs": [
    {
     "data": {
      "text/plain": [
       "1"
      ]
     },
     "execution_count": 127,
     "metadata": {},
     "output_type": "execute_result"
    }
   ],
   "source": [
    "bank_db = {1001: {'name': 'Shubhi', 'phone number': '9876556789', 'city': 'Pune', 'password': '123', 'balance': 1}}\n",
    "bank_db[1001]['balance']"
   ]
  },
  {
   "cell_type": "code",
   "execution_count": null,
   "id": "65f7e219-3c59-44bb-9193-5102cf6eba45",
   "metadata": {},
   "outputs": [],
   "source": []
  }
 ],
 "metadata": {
  "kernelspec": {
   "display_name": "Python 3 (ipykernel)",
   "language": "python",
   "name": "python3"
  },
  "language_info": {
   "codemirror_mode": {
    "name": "ipython",
    "version": 3
   },
   "file_extension": ".py",
   "mimetype": "text/x-python",
   "name": "python",
   "nbconvert_exporter": "python",
   "pygments_lexer": "ipython3",
   "version": "3.12.2"
  }
 },
 "nbformat": 4,
 "nbformat_minor": 5
}
