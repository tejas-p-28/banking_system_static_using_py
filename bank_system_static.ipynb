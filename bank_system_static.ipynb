{
 "cells": [
  {
   "cell_type": "code",
   "execution_count": 1,
   "id": "53eb4842-7b5d-4abb-8bf5-41e10361d63f",
   "metadata": {},
   "outputs": [],
   "source": [
    "#config \n",
    "width = 50\n",
    "bank_name = 'Ghotala Bank'\n",
    "branch_name = 'Maksad Nagar'\n",
    "\n",
    "max_retry = 3"
   ]
  },
  {
   "cell_type": "code",
   "execution_count": 2,
   "id": "e680b595-1c8a-4fda-8d2b-7124a095857e",
   "metadata": {},
   "outputs": [],
   "source": [
    "#global variable\n",
    "bank_db = {}\n",
    "acc_no = 1000"
   ]
  },
  {
   "cell_type": "code",
   "execution_count": 3,
   "id": "faa0ecc5-819f-4603-81e9-e8b17671e500",
   "metadata": {},
   "outputs": [],
   "source": [
    "#messages\n",
    "first_msg = 'Operation you can perform'"
   ]
  },
  {
   "cell_type": "code",
   "execution_count": 20,
   "id": "8282be32-b6e6-4b30-90fd-8abd9a34cfff",
   "metadata": {},
   "outputs": [],
   "source": [
    "#business logic \n",
    "def header(mesg = None):\n",
    "    head = '-' * width\n",
    "    print(f'{head} \\n {bank_name.center(width)} \\n {head}')\n",
    "    if mesg:\n",
    "        print(mesg.center(width))\n",
    "    print(head)\n",
    "def user_input(ch,max_exp_value):\n",
    "    for i in range(max_retry):\n",
    "        ch = int(input('enter your choice'))\n",
    "        if ch in range(1,max_exp_value+1):\n",
    "            return ch\n",
    "        else:\n",
    "            print('error')\n",
    "    print('Max retries exceeded')\n",
    "    return False\n",
    "def first_screen():\n",
    "    print(first_msg)\n",
    "    print('\\n1) Create Account \\n2) Login \\n3) Exit')\n",
    "    return user_input('enter your choice : ',3)\n",
    "\n",
    "\n",
    "def create_account():\n",
    "    global bank_db\n",
    "    header('Account Creation in progress')\n",
    "    naam = input('enter your name')\n",
    "    phn_no = int(input('enter your phn no'))\n",
    "    if len(phn_no) == 10:\n",
    "        \n",
    "        print(phn_no)\n",
    "def acc_no():\n",
    "    global acc_no\n",
    "    acc_no +=1\n",
    "    return acc_no"
   ]
  },
  {
   "cell_type": "code",
   "execution_count": 21,
   "id": "c04c7de8-d1d5-4a65-b0ad-4ca54a1a9600",
   "metadata": {},
   "outputs": [],
   "source": [
    "#main / server\n",
    "def main():\n",
    "    \n",
    "    \n",
    "    header()\n",
    "    ch = first_screen()\n",
    "    if ch == 1:\n",
    "        create_account()\n",
    "    elif ch == 2:\n",
    "        pass\n",
    "    elif ch == 3:\n",
    "        pass\n",
    "    else:\n",
    "        pass"
   ]
  },
  {
   "cell_type": "code",
   "execution_count": 22,
   "id": "51e6c67b-2f19-4b53-9dc3-e630afceb7d8",
   "metadata": {},
   "outputs": [
    {
     "name": "stdout",
     "output_type": "stream",
     "text": [
      "-------------------------------------------------- \n",
      "                    Ghotala Bank                    \n",
      " --------------------------------------------------\n",
      "--------------------------------------------------\n",
      "Operation you can perform\n",
      "\n",
      "1) Create Account \n",
      "2) Login \n",
      "3) Exit\n"
     ]
    },
    {
     "name": "stdin",
     "output_type": "stream",
     "text": [
      "enter your choice 1\n"
     ]
    },
    {
     "name": "stdout",
     "output_type": "stream",
     "text": [
      "-------------------------------------------------- \n",
      "                    Ghotala Bank                    \n",
      " --------------------------------------------------\n",
      "           Account Creation in progress           \n",
      "--------------------------------------------------\n"
     ]
    },
    {
     "name": "stdin",
     "output_type": "stream",
     "text": [
      "enter your name tejas\n",
      "enter your phn no 9876543210\n"
     ]
    },
    {
     "ename": "TypeError",
     "evalue": "object of type 'int' has no len()",
     "output_type": "error",
     "traceback": [
      "\u001b[1;31m---------------------------------------------------------------------------\u001b[0m",
      "\u001b[1;31mTypeError\u001b[0m                                 Traceback (most recent call last)",
      "Cell \u001b[1;32mIn[22], line 2\u001b[0m\n\u001b[0;32m      1\u001b[0m \u001b[38;5;66;03m# execution\u001b[39;00m\n\u001b[1;32m----> 2\u001b[0m \u001b[43mmain\u001b[49m\u001b[43m(\u001b[49m\u001b[43m)\u001b[49m\n",
      "Cell \u001b[1;32mIn[21], line 8\u001b[0m, in \u001b[0;36mmain\u001b[1;34m()\u001b[0m\n\u001b[0;32m      6\u001b[0m ch \u001b[38;5;241m=\u001b[39m first_screen()\n\u001b[0;32m      7\u001b[0m \u001b[38;5;28;01mif\u001b[39;00m ch \u001b[38;5;241m==\u001b[39m \u001b[38;5;241m1\u001b[39m:\n\u001b[1;32m----> 8\u001b[0m     \u001b[43mcreate_account\u001b[49m\u001b[43m(\u001b[49m\u001b[43m)\u001b[49m\n\u001b[0;32m      9\u001b[0m \u001b[38;5;28;01melif\u001b[39;00m ch \u001b[38;5;241m==\u001b[39m \u001b[38;5;241m2\u001b[39m:\n\u001b[0;32m     10\u001b[0m     \u001b[38;5;28;01mpass\u001b[39;00m\n",
      "Cell \u001b[1;32mIn[20], line 28\u001b[0m, in \u001b[0;36mcreate_account\u001b[1;34m()\u001b[0m\n\u001b[0;32m     26\u001b[0m naam \u001b[38;5;241m=\u001b[39m \u001b[38;5;28minput\u001b[39m(\u001b[38;5;124m'\u001b[39m\u001b[38;5;124menter your name\u001b[39m\u001b[38;5;124m'\u001b[39m)\n\u001b[0;32m     27\u001b[0m phn_no \u001b[38;5;241m=\u001b[39m \u001b[38;5;28mint\u001b[39m(\u001b[38;5;28minput\u001b[39m(\u001b[38;5;124m'\u001b[39m\u001b[38;5;124menter your phn no\u001b[39m\u001b[38;5;124m'\u001b[39m))\n\u001b[1;32m---> 28\u001b[0m \u001b[38;5;28;01mif\u001b[39;00m \u001b[38;5;28;43mlen\u001b[39;49m\u001b[43m(\u001b[49m\u001b[43mphn_no\u001b[49m\u001b[43m)\u001b[49m \u001b[38;5;241m==\u001b[39m \u001b[38;5;241m10\u001b[39m:\n\u001b[0;32m     30\u001b[0m     \u001b[38;5;28mprint\u001b[39m(phn_no)\n",
      "\u001b[1;31mTypeError\u001b[0m: object of type 'int' has no len()"
     ]
    }
   ],
   "source": [
    "# execution\n",
    "main()"
   ]
  },
  {
   "cell_type": "code",
   "execution_count": null,
   "id": "8b010dd4-85e5-4d0b-8ba6-4cb01f3aea87",
   "metadata": {},
   "outputs": [],
   "source": []
  }
 ],
 "metadata": {
  "kernelspec": {
   "display_name": "Python 3 (ipykernel)",
   "language": "python",
   "name": "python3"
  },
  "language_info": {
   "codemirror_mode": {
    "name": "ipython",
    "version": 3
   },
   "file_extension": ".py",
   "mimetype": "text/x-python",
   "name": "python",
   "nbconvert_exporter": "python",
   "pygments_lexer": "ipython3",
   "version": "3.12.2"
  }
 },
 "nbformat": 4,
 "nbformat_minor": 5
}
